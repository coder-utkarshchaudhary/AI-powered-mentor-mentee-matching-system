{
 "cells": [
  {
   "cell_type": "markdown",
   "metadata": {},
   "source": [
    "## **Importing Dependincies**"
   ]
  },
  {
   "cell_type": "code",
   "execution_count": 1,
   "metadata": {},
   "outputs": [
    {
     "name": "stderr",
     "output_type": "stream",
     "text": [
      "2024-12-27 20:26:24.161359: I tensorflow/core/util/port.cc:153] oneDNN custom operations are on. You may see slightly different numerical results due to floating-point round-off errors from different computation orders. To turn them off, set the environment variable `TF_ENABLE_ONEDNN_OPTS=0`.\n",
      "2024-12-27 20:26:24.170995: E external/local_xla/xla/stream_executor/cuda/cuda_fft.cc:485] Unable to register cuFFT factory: Attempting to register factory for plugin cuFFT when one has already been registered\n",
      "2024-12-27 20:26:24.182218: E external/local_xla/xla/stream_executor/cuda/cuda_dnn.cc:8454] Unable to register cuDNN factory: Attempting to register factory for plugin cuDNN when one has already been registered\n",
      "2024-12-27 20:26:24.185616: E external/local_xla/xla/stream_executor/cuda/cuda_blas.cc:1452] Unable to register cuBLAS factory: Attempting to register factory for plugin cuBLAS when one has already been registered\n",
      "2024-12-27 20:26:24.194599: I tensorflow/core/platform/cpu_feature_guard.cc:210] This TensorFlow binary is optimized to use available CPU instructions in performance-critical operations.\n",
      "To enable the following instructions: AVX2 AVX_VNNI FMA, in other operations, rebuild TensorFlow with the appropriate compiler flags.\n",
      "2024-12-27 20:26:24.712600: W tensorflow/compiler/tf2tensorrt/utils/py_utils.cc:38] TF-TRT Warning: Could not find TensorRT\n"
     ]
    }
   ],
   "source": [
    "import os\n",
    "import json\n",
    "import torch\n",
    "import random\n",
    "from tqdm import tqdm\n",
    "from transformers import BertModel, BertTokenizer\n",
    "from pymilvus import MilvusClient"
   ]
  },
  {
   "cell_type": "markdown",
   "metadata": {},
   "source": [
    "## **Configuration and Global Variables**"
   ]
  },
  {
   "cell_type": "code",
   "execution_count": 2,
   "metadata": {},
   "outputs": [],
   "source": [
    "# Data paths\n",
    "INPUT_DATA_PATH_STUDENTS = r\"mock dataset generation/datasets/refined_final_dataset_student.json\"\n",
    "INPUT_DATA_PATH_MENTOR = r\"mock dataset generation/datasets/refined_final_dataset_mentor.json\"\n",
    "OUTPUT_DATA_PATH_STUDENTS = r\"mock dataset generation/datasets/enriched_dataset_student.json\"\n",
    "OUTPUT_DATA_PATH_MENTOR = r\"mock dataset generation/datasets/enriched_dataset_mentor.json\"\n",
    "\n",
    "# Vector DB configs\n",
    "STUDENT_COLLECTION = \"student_collection\"\n",
    "MENTOR_COLLECTION = \"mentor_collection\"\n",
    "VECTOR_DIM = 512\n",
    "BERT_MODEL_NAME = \"bert-base-uncased\""
   ]
  },
  {
   "cell_type": "markdown",
   "metadata": {},
   "source": [
    "## **Loading Data**"
   ]
  },
  {
   "cell_type": "code",
   "execution_count": 3,
   "metadata": {},
   "outputs": [],
   "source": [
    "with open(INPUT_DATA_PATH_STUDENTS, 'r') as student_file, open(INPUT_DATA_PATH_MENTOR, 'r') as mentor_file:\n",
    "    student_data = json.load(student_file)\n",
    "    mentor_data = json.load(mentor_file)"
   ]
  },
  {
   "cell_type": "markdown",
   "metadata": {},
   "source": [
    "## **Feature Engineering**"
   ]
  },
  {
   "cell_type": "markdown",
   "metadata": {},
   "source": [
    "#### **Helper functions**"
   ]
  },
  {
   "cell_type": "code",
   "execution_count": 4,
   "metadata": {},
   "outputs": [],
   "source": [
    "def normalize_availability(availability):\n",
    "    if 'weekend' in availability.lower() or 'evening' in availability.lower():\n",
    "        return 'semi-flexible'\n",
    "    elif 'daily' in availability.lower() or 'hours' in availability.lower():\n",
    "        return 'flexible'\n",
    "    else:\n",
    "        return 'rigid'"
   ]
  },
  {
   "cell_type": "markdown",
   "metadata": {},
   "source": [
    "#### **Parsing datasets and adding features**"
   ]
  },
  {
   "cell_type": "code",
   "execution_count": 5,
   "metadata": {},
   "outputs": [],
   "source": [
    "for student_id, attributes in student_data.items():\n",
    "    strengths = attributes.get(\"strengths\", [])\n",
    "    weaknesses = attributes.get(\"weaknesses\", [])\n",
    "    interests = attributes.get(\"interests\", [])\n",
    "    learning_style = attributes.get(\"learning_style\", \"\")\n",
    "    learning_challenges = attributes.get(\"learning_challenges\", [])\n",
    "    goals = attributes.get(\"goals\", [])\n",
    "    availability = attributes.get(\"avail\", \"\")\n",
    "\n",
    "    attributes['skill_level'] = 'advanced' if len(strengths) > len(weaknesses) else 'beginner'\n",
    "    attributes['preferred_mentor_expertise'] = interests\n",
    "    attributes['engagement_preference'] = 'group' if 'collaborative' in learning_style.lower() else 'one-on-one'\n",
    "    attributes['challenge_index'] = len(learning_challenges)\n",
    "    attributes['career_focus'] = 'STEM' if any(g in ['engineering', 'data science', 'math'] for g in goals) else 'Other'\n",
    "    attributes['learning_time_flexibility'] = normalize_availability(availability)"
   ]
  },
  {
   "cell_type": "code",
   "execution_count": 6,
   "metadata": {},
   "outputs": [],
   "source": [
    "for mentor_id, attributes in mentor_data.items():\n",
    "    expertise = attributes.get(\"Expertise\", [])\n",
    "    weaknesses = attributes.get(\"Weaknesses\", [])\n",
    "    interests = attributes.get(\"Interests\", [])\n",
    "    teaching_style = attributes.get(\"Teaching Style\", \"\")\n",
    "    professional_goals = attributes.get(\"Professional Goals\", [])\n",
    "    availability = attributes.get(\"Availability\", \"\")\n",
    "\n",
    "    attributes['compatibility_index'] = 'high' if 'hands-on' in teaching_style.lower() else 'medium'\n",
    "    attributes['mentorship_focus'] = 'career progression' if any(g in ['career', 'progress'] for g in professional_goals) else 'skill-building'\n",
    "    attributes['subject_breadth'] = len(expertise)\n",
    "    attributes['teaching_adaptability'] = 'high' if len(weaknesses) > 2 else 'low'\n",
    "    attributes['session_availability_density'] = normalize_availability(availability)"
   ]
  },
  {
   "cell_type": "markdown",
   "metadata": {},
   "source": [
    "#### **Saving updated files**"
   ]
  },
  {
   "cell_type": "code",
   "execution_count": 7,
   "metadata": {},
   "outputs": [
    {
     "name": "stdout",
     "output_type": "stream",
     "text": [
      "Enriched datasets have been successfully generated.\n"
     ]
    }
   ],
   "source": [
    "with open(OUTPUT_DATA_PATH_STUDENTS, 'w') as student_output, open(OUTPUT_DATA_PATH_MENTOR, 'w') as mentor_output:\n",
    "    json.dump(student_data, student_output, indent=4)\n",
    "    json.dump(mentor_data, mentor_output, indent=4)\n",
    "\n",
    "print(\"Enriched datasets have been successfully generated.\")"
   ]
  },
  {
   "cell_type": "markdown",
   "metadata": {},
   "source": [
    "## **Establishing Vector Database**"
   ]
  },
  {
   "cell_type": "markdown",
   "metadata": {},
   "source": [
    "#### **Helper functions**"
   ]
  },
  {
   "cell_type": "code",
   "execution_count": 8,
   "metadata": {},
   "outputs": [],
   "source": [
    "def get_milvus_client():\n",
    "    client = MilvusClient(\"vector_database.db\")\n",
    "    print(\"Connected to Milvus.\")\n",
    "    return client"
   ]
  },
  {
   "cell_type": "code",
   "execution_count": 9,
   "metadata": {},
   "outputs": [],
   "source": [
    "def create_collection(client, collection_name):\n",
    "    # CHECK\n",
    "    if collection_name in client.list_collections():\n",
    "        print(f\"Collection {collection_name} already exists.\")\n",
    "        return\n",
    "\n",
    "    client.create_collection(\n",
    "        collection_name=collection_name,\n",
    "        dimension=VECTOR_DIM,\n",
    "        primary_field_name=\"id\",\n",
    "        vector_field_name=\"vector\",\n",
    "        other_fields=[\n",
    "            {\"name\": \"original_id\", \"type\": \"varchar\", \"max_length\": 100}\n",
    "        ]\n",
    "    )\n",
    "    print(f\"Collection {collection_name} created.\")"
   ]
  },
  {
   "cell_type": "code",
   "execution_count": 10,
   "metadata": {},
   "outputs": [],
   "source": [
    "def load_bert_encoder():\n",
    "    tokenizer = BertTokenizer.from_pretrained(BERT_MODEL_NAME)\n",
    "    model = BertModel.from_pretrained(BERT_MODEL_NAME)\n",
    "    return tokenizer, model"
   ]
  },
  {
   "cell_type": "code",
   "execution_count": 11,
   "metadata": {},
   "outputs": [],
   "source": [
    "def encode_text(text, tokenizer, model):\n",
    "    inputs = tokenizer(text, return_tensors=\"pt\", padding=True, truncation=True, max_length=512)\n",
    "    with torch.no_grad():\n",
    "        outputs = model(**inputs)\n",
    "    return outputs.last_hidden_state[:, 0, :].squeeze().numpy()"
   ]
  },
  {
   "cell_type": "code",
   "execution_count": 12,
   "metadata": {},
   "outputs": [],
   "source": [
    "def format_student_text(student_data):\n",
    "    attributes = student_data.get('attributes', {})\n",
    "    \n",
    "    core_text = f\"Strengths: {attributes.get('Strengths', [])} | \" \\\n",
    "                f\"Weaknesses: {attributes.get('Weaknesses', [])} | \" \\\n",
    "                f\"Interests: {attributes.get('Interests', [])} | \" \\\n",
    "                f\"Learning Style: {attributes.get('Learning Style', '')} | \" \\\n",
    "                f\"Learning Challenges: {attributes.get('Learning Challenges', [])} | \" \\\n",
    "                f\"Goals: {attributes.get('Goals', [])} | \" \\\n",
    "                f\"Availability: {attributes.get('Availability', '')}\"\n",
    "    \n",
    "    additional_text = f\"Skill Level: {student_data.get('skill_level', '')} | \" \\\n",
    "                     f\"Preferred Mentor Expertise: {student_data.get('preferred_mentor_expertise', [])} | \" \\\n",
    "                     f\"Engagement Preference: {student_data.get('engagement_preference', '')} | \" \\\n",
    "                     f\"Challenge Index: {student_data.get('challenge_index', '')} | \" \\\n",
    "                     f\"Career Focus: {student_data.get('career_focus', '')} | \" \\\n",
    "                     f\"Learning Time Flexibility: {student_data.get('learning_time_flexibility', '')}\"\n",
    "    \n",
    "    return f\"{core_text} | {additional_text}\"\n",
    "\n",
    "def format_mentor_text(mentor_data):\n",
    "    core_text = f\"Expertise: {mentor_data.get('Expertise', [])} | \" \\\n",
    "                f\"Weaknesses: {mentor_data.get('Weaknesses', [])} | \" \\\n",
    "                f\"Interests: {mentor_data.get('Interests', [])} | \" \\\n",
    "                f\"Teaching Style: {mentor_data.get('Teaching Style', '')} | \" \\\n",
    "                f\"Professional Goals: {mentor_data.get('Professional Goals', [])} | \" \\\n",
    "                f\"Availability: {mentor_data.get('Availability', '')}\"\n",
    "    \n",
    "    additional_text = f\"Compatibility Index: {mentor_data.get('compatibility_index', '')} | \" \\\n",
    "                     f\"Mentorship Focus: {mentor_data.get('mentorship_focus', '')} | \" \\\n",
    "                     f\"Subject Breadth: {mentor_data.get('subject_breadth', '')} | \" \\\n",
    "                     f\"Teaching Adaptability: {mentor_data.get('teaching_adaptability', '')} | \" \\\n",
    "                     f\"Session Availability Density: {mentor_data.get('session_availability_density', '')}\"\n",
    "    \n",
    "    return f\"{core_text} | {additional_text}\""
   ]
  },
  {
   "cell_type": "code",
   "execution_count": 13,
   "metadata": {},
   "outputs": [],
   "source": [
    "def insert_data(client, collection_name, data, tokenizer, model):\n",
    "    format_func = format_student_text if collection_name == STUDENT_COLLECTION else format_mentor_text\n",
    "    \n",
    "    entities = []\n",
    "    for idx, (id_key, attributes) in enumerate(tqdm(data.items())):\n",
    "        text = format_func(attributes)\n",
    "        vector = encode_text(text, tokenizer, model)\n",
    "        \n",
    "        entities.append({\n",
    "            \"id\": idx,\n",
    "            \"vector\": vector.tolist(),\n",
    "            \"original_id\": id_key\n",
    "        })\n",
    "    \n",
    "    batch_size = 50\n",
    "    for i in range(0, len(entities), batch_size):\n",
    "        batch = entities[i:i + batch_size]\n",
    "        client.insert(\n",
    "            collection_name=collection_name,\n",
    "            data=batch\n",
    "        )\n",
    "    \n",
    "    print(f\"Inserted {len(entities)} records into {collection_name}.\")"
   ]
  },
  {
   "cell_type": "code",
   "execution_count": 14,
   "metadata": {},
   "outputs": [],
   "source": [
    "def search_similar(client, collection_name, query_vector, top_k=5):\n",
    "    results = client.search(\n",
    "        collection_name=collection_name,\n",
    "        data=[query_vector.tolist()],  # MilvusClient requires list format\n",
    "        output_fields=[\"original_id\"],\n",
    "        limit=top_k,\n",
    "        search_params={\n",
    "            \"metric_type\": \"IP\",\n",
    "            \"params\": {\"nprobe\": 10}\n",
    "        }\n",
    "    )\n",
    "    \n",
    "    print(f\"Search results from {collection_name}:\")\n",
    "    for hit in results[0]:\n",
    "        print(f\"Original ID: {hit.entity.get('original_id')}, Similarity: {hit.score}\")"
   ]
  },
  {
   "cell_type": "markdown",
   "metadata": {},
   "source": [
    "#### **Inserting data to DB**"
   ]
  },
  {
   "cell_type": "code",
   "execution_count": 15,
   "metadata": {},
   "outputs": [
    {
     "name": "stdout",
     "output_type": "stream",
     "text": [
      "Connected to Milvus.\n",
      "Collection student_collection already exists.\n",
      "Collection mentor_collection already exists.\n"
     ]
    },
    {
     "data": {
      "application/vnd.jupyter.widget-view+json": {
       "model_id": "8d79310dc7504ad799a783f84539f3ce",
       "version_major": 2,
       "version_minor": 0
      },
      "text/plain": [
       "vocab.txt:   0%|          | 0.00/232k [00:00<?, ?B/s]"
      ]
     },
     "metadata": {},
     "output_type": "display_data"
    },
    {
     "data": {
      "application/vnd.jupyter.widget-view+json": {
       "model_id": "98f843555def492d9e61944b697aa3a5",
       "version_major": 2,
       "version_minor": 0
      },
      "text/plain": [
       "tokenizer.json:   0%|          | 0.00/466k [00:00<?, ?B/s]"
      ]
     },
     "metadata": {},
     "output_type": "display_data"
    },
    {
     "data": {
      "application/vnd.jupyter.widget-view+json": {
       "model_id": "c257b7af664c4027b8b169b0ce1d2574",
       "version_major": 2,
       "version_minor": 0
      },
      "text/plain": [
       "config.json:   0%|          | 0.00/570 [00:00<?, ?B/s]"
      ]
     },
     "metadata": {},
     "output_type": "display_data"
    },
    {
     "data": {
      "application/vnd.jupyter.widget-view+json": {
       "model_id": "9db2db35f3444994b6cb611f167034d7",
       "version_major": 2,
       "version_minor": 0
      },
      "text/plain": [
       "model.safetensors:   0%|          | 0.00/440M [00:00<?, ?B/s]"
      ]
     },
     "metadata": {},
     "output_type": "display_data"
    },
    {
     "name": "stderr",
     "output_type": "stream",
     "text": [
      "Error while downloading from https://cdn-lfs.hf.co/bert-base-uncased/68d45e234eb4a928074dfd868cead0219ab85354cc53d20e772753c6bb9169d3?response-content-disposition=inline%3B+filename*%3DUTF-8%27%27model.safetensors%3B+filename%3D%22model.safetensors%22%3B&Expires=1735568963&Policy=eyJTdGF0ZW1lbnQiOlt7IkNvbmRpdGlvbiI6eyJEYXRlTGVzc1RoYW4iOnsiQVdTOkVwb2NoVGltZSI6MTczNTU2ODk2M319LCJSZXNvdXJjZSI6Imh0dHBzOi8vY2RuLWxmcy5oZi5jby9iZXJ0LWJhc2UtdW5jYXNlZC82OGQ0NWUyMzRlYjRhOTI4MDc0ZGZkODY4Y2VhZDAyMTlhYjg1MzU0Y2M1M2QyMGU3NzI3NTNjNmJiOTE2OWQzP3Jlc3BvbnNlLWNvbnRlbnQtZGlzcG9zaXRpb249KiJ9XX0_&Signature=dlO7J7iEFzpZNuiRrFYOCgYvb1nyxpFikXoEcab-LRFDjq72KwmaVHeey6OyINaiLKA9-m6cB3jvw9L4z67jJVfHLurYxSt0f-05fOEMAbhSwKelIR2qCd12cFJ5NbstNM0T-zV9OC3xyonTkygjeMHfWZgvHhCN3pJDdCfiqHmQXDxslJVdkEPfnxjKq3%7E0tu6CQOqSbgVxhnpfXgcphAKe64fVwjb5dSuHLNyE9FiMGMxQKc0HFZl8vc54Na9UDsWYkpr56TpdAfFR9ROWozYlxOKUWIZFNZyv%7EEGBJD0zSWl1nnrRgnrImmruJJ2tgc0mpJgAGQ7G0YmLl4OboA__&Key-Pair-Id=K3RPWS32NSSJCE: HTTPSConnectionPool(host='cdn-lfs.hf.co', port=443): Read timed out.\n",
      "Trying to resume download...\n"
     ]
    },
    {
     "data": {
      "application/vnd.jupyter.widget-view+json": {
       "model_id": "aa57ecaefefc46b3a6b5f0463cefd7d3",
       "version_major": 2,
       "version_minor": 0
      },
      "text/plain": [
       "model.safetensors:  14%|#4        | 62.9M/440M [00:00<?, ?B/s]"
      ]
     },
     "metadata": {},
     "output_type": "display_data"
    },
    {
     "name": "stderr",
     "output_type": "stream",
     "text": [
      "100%|██████████| 300/300 [00:08<00:00, 34.01it/s]\n"
     ]
    },
    {
     "name": "stdout",
     "output_type": "stream",
     "text": [
      "Inserted 300 records into student_collection.\n"
     ]
    },
    {
     "name": "stderr",
     "output_type": "stream",
     "text": [
      "100%|██████████| 300/300 [00:27<00:00, 10.72it/s]\n"
     ]
    },
    {
     "name": "stdout",
     "output_type": "stream",
     "text": [
      "Inserted 300 records into mentor_collection.\n"
     ]
    }
   ],
   "source": [
    "client = get_milvus_client()\n",
    "\n",
    "create_collection(client, STUDENT_COLLECTION)\n",
    "create_collection(client, MENTOR_COLLECTION)\n",
    "\n",
    "with open(OUTPUT_DATA_PATH_STUDENTS, \"r\") as student_file:\n",
    "    student_data = json.load(student_file)\n",
    "with open(OUTPUT_DATA_PATH_MENTOR, \"r\") as mentor_file:\n",
    "    mentor_data = json.load(mentor_file)\n",
    "\n",
    "tokenizer, model = load_bert_encoder()\n",
    "\n",
    "insert_data(client, STUDENT_COLLECTION, student_data, tokenizer, model)\n",
    "insert_data(client, MENTOR_COLLECTION, mentor_data, tokenizer, model)"
   ]
  },
  {
   "cell_type": "markdown",
   "metadata": {},
   "source": [
    "## **Evaluation and Testing**"
   ]
  },
  {
   "cell_type": "markdown",
   "metadata": {},
   "source": [
    "#### **Helper functions**"
   ]
  },
  {
   "cell_type": "code",
   "execution_count": null,
   "metadata": {},
   "outputs": [],
   "source": [
    "def get_random_student_vector(student_data, tokenizer, model):\n",
    "    random_student_id = random.choice(list(student_data.keys()))\n",
    "    student_full_data = student_data[random_student_id]\n",
    "    student_attributes = student_full_data['attributes']\n",
    "    student_text = format_student_text(student_full_data)\n",
    "    student_vector = encode_text(student_text, tokenizer, model)\n",
    "    return random_student_id, student_vector, student_full_data"
   ]
  },
  {
   "cell_type": "markdown",
   "metadata": {},
   "source": [
    "#### **TEST 1: Random student**"
   ]
  },
  {
   "cell_type": "code",
   "execution_count": null,
   "metadata": {},
   "outputs": [
    {
     "name": "stderr",
     "output_type": "stream",
     "text": [
      "2024-12-27 20:41:28,981 [ERROR][handler]: RPC error: [search], <MilvusException: (code=1100, message=fail to search: metric type not match: invalid [expected=COSINE][actual=IP]: invalid parameter)>, <Time:{'RPC start': '2024-12-27 20:41:28.978410', 'RPC error': '2024-12-27 20:41:28.981024'}> (decorators.py:140)\n",
      "2024-12-27 20:41:28,981 [ERROR][search]: Failed to search collection: mentor_collection (milvus_client.py:412)\n"
     ]
    },
    {
     "name": "stdout",
     "output_type": "stream",
     "text": [
      "Total number of students: 300\n",
      "Sample of keys: ['student_1', 'student_2', 'student_3']\n",
      "Sample of first student data: {'attributes': {'Strengths': ['Strong analytical skills', 'Good grasp of mathematical concepts', 'Quick at solving puzzles'], 'Weaknesses': ['Finds grammar rules difficult to remember', 'Struggles with word problems'], 'Interests': ['Astronomy', 'Video games', 'Space exploration'], 'Learning Style': 'Visual', 'Learning Challenges': ['Short attention span'], 'Goals': ['Become a software engineer', 'Learn coding'], 'Availability': '2 hours daily on weekdays'}, 'study_plan': {'Introduction': ['The student has not provided specific information regarding their strengths, weaknesses, interests, learning style, learning challenges, goals, or availability. Therefore, the study plan will be generalized to cover a broad range of potential areas of interest and development.'], 'Workshops': [{'name': 'Time Management and Study Skills', 'description': 'A workshop designed to help students develop effective study habits and manage their time efficiently.', 'link': 'https://www.coursera.org/learn/learning-how-to-learn'}, {'name': 'Introduction to Coding', 'description': 'A beginner-friendly workshop that introduces the basics of programming and coding.', 'link': 'https://www.codecademy.com/learn/learn-how-to-code'}, {'name': 'Creative Writing Workshop', 'description': 'A workshop aimed at enhancing writing skills and fostering creativity in storytelling.', 'link': 'https://www.masterclass.com/classes/margaret-atwood-teaches-creative-writing'}, {'name': 'Public Speaking and Communication', 'description': 'This workshop focuses on improving public speaking skills and effective communication.', 'link': 'https://www.toastmasters.org/find-a-club'}, {'name': 'Introduction to Data Science', 'description': 'An introductory workshop on data science concepts and tools.', 'link': 'https://www.edx.org/course/introduction-to-data-science'}], 'Activities': ['Join a debate club to enhance communication and critical thinking skills.', 'Participate in a local sports team to develop teamwork and physical fitness.', 'Engage in a community service project to build empathy and social responsibility.', 'Attend art classes to explore creativity and self-expression.', 'Join a book club to foster a love for reading and discussion.'], 'Tasks': ['Complete weekly quizzes on various subjects to identify and improve areas of weakness.', 'Undertake a personal project, such as building a website or writing a short story, to apply new skills.', 'Set monthly goals and review progress to stay motivated and focused.', 'Participate in online forums or study groups to enhance collaborative learning.', 'Create a portfolio of work to track development and achievements over time.'], 'Mentors': [{'name': 'Dr. Jane Smith', 'expertise': 'Education and Learning Strategies', 'link': 'https://www.linkedin.com/in/jane-smith-education'}, {'name': 'Mr. John Doe', 'expertise': 'Career Development and Coaching', 'link': 'https://www.linkedin.com/in/john-doe-career-coach'}, {'name': 'Ms. Emily Johnson', 'expertise': 'Personal Growth and Motivation', 'link': 'https://www.linkedin.com/in/emily-johnson-motivation'}]}, 'skill_level': 'beginner', 'preferred_mentor_expertise': [], 'engagement_preference': 'one-on-one', 'challenge_index': 0, 'career_focus': 'Other', 'learning_time_flexibility': 'rigid'}\n",
      "\n",
      "Full attributes for selected student:\n",
      "attributes: {'Strengths': ['Good grasp of mathematical concepts', 'Quick at solving puzzles', 'Strong analytical skills'], 'Weaknesses': ['Finds grammar rules difficult', 'Struggles with word problems'], 'Interests': ['Space exploration', 'Video games'], 'Learning Style': 'Visual', 'Learning Challenges': ['Short attention span'], 'Goals': ['Learn coding', 'Become a software engineer'], 'Availability': '2 hours daily on weekdays'}\n",
      "study_plan: {'Introduction': ['The student has not provided specific information regarding their strengths, weaknesses, interests, learning style, learning challenges, goals, or availability. Therefore, the study plan will be generalized to cover a broad range of potential areas that could benefit any student.'], 'Workshops': [{'name': 'Time Management and Study Skills', 'description': 'A workshop designed to help students develop effective study habits and manage their time efficiently.', 'link': 'https://www.coursera.org/learn/learning-how-to-learn'}, {'name': 'Introduction to Coding', 'description': 'A beginner-friendly workshop that introduces the basics of programming and coding.', 'link': 'https://www.codecademy.com/learn/learn-python-3'}, {'name': 'Creative Writing', 'description': 'A workshop aimed at enhancing writing skills and fostering creativity in storytelling.', 'link': 'https://www.masterclass.com/classes/margaret-atwood-teaches-creative-writing'}, {'name': 'Public Speaking and Communication', 'description': 'This workshop focuses on improving public speaking skills and effective communication.', 'link': 'https://www.toastmasters.org/'}, {'name': 'Introduction to Data Science', 'description': 'An introductory workshop on data science concepts and tools.', 'link': 'https://www.coursera.org/specializations/jhu-data-science'}], 'Activities': ['Join a debate club to enhance communication and critical thinking skills.', 'Participate in a local coding bootcamp to develop programming skills.', 'Engage in a community service project to build teamwork and leadership abilities.', 'Attend art classes to explore creativity and self-expression.', 'Join a sports team to improve physical fitness and teamwork.'], 'Tasks': ['Complete weekly quizzes on various subjects to identify and improve weak areas.', 'Undertake a personal project related to a potential interest, such as building a simple app or writing a short story.', 'Set up a study schedule to regularly review and practice different subjects.', 'Participate in online forums or study groups to discuss and solve academic problems.', 'Create a portfolio of work, such as essays, projects, or code, to track progress and achievements.'], 'Mentors': [{'name': 'Dr. Jane Smith', 'expertise': 'Education and Learning Strategies', 'link': 'https://www.linkedin.com/in/jane-smith-education'}, {'name': 'Mr. John Doe', 'expertise': 'Career Development and Coaching', 'link': 'https://www.linkedin.com/in/john-doe-career-coach'}, {'name': 'Ms. Emily Johnson', 'expertise': 'Technology and Innovation', 'link': 'https://www.linkedin.com/in/emily-johnson-tech'}]}\n",
      "skill_level: beginner\n",
      "preferred_mentor_expertise: []\n",
      "engagement_preference: one-on-one\n",
      "challenge_index: 0\n",
      "career_focus: Other\n",
      "learning_time_flexibility: rigid\n",
      "\n",
      "Selected Student Details:\n",
      "Student ID: student_247\n",
      "Interests: Not found\n",
      "Goals: Not found\n",
      "\n",
      "Finding matching mentors...\n",
      "Error during matching: <MilvusException: (code=1100, message=fail to search: metric type not match: invalid [expected=COSINE][actual=IP]: invalid parameter)>\n",
      "Available keys in student_attributes: dict_keys(['attributes', 'study_plan', 'skill_level', 'preferred_mentor_expertise', 'engagement_preference', 'challenge_index', 'career_focus', 'learning_time_flexibility'])\n"
     ]
    }
   ],
   "source": [
    "def test_basic_matching(top_k):\n",
    "    random_student_id, student_vector, student_full_data = get_random_student_vector(student_data, tokenizer, model)\n",
    "    \n",
    "    print(\"Selected Student Details:\")\n",
    "    print(f\"Student ID: {random_student_id}\")\n",
    "    print(\"\\nCore Attributes:\")\n",
    "    for key, value in student_full_data['attributes'].items():\n",
    "        print(f\"{key}: {value}\")\n",
    "    \n",
    "    print(\"\\nAdditional Information:\")\n",
    "    additional_fields = ['skill_level', 'engagement_preference', 'challenge_index', \n",
    "                        'career_focus', 'learning_time_flexibility']\n",
    "    for field in additional_fields:\n",
    "        print(f\"{field}: {student_full_data.get(field, 'Not specified')}\")\n",
    "    \n",
    "    print(\"\\nFinding matching mentors...\")\n",
    "    results = search_similar(client, MENTOR_COLLECTION, student_vector, top_k=top_k)\n",
    "    return results\n",
    "\n",
    "test_basic_matching(top_k=3)"
   ]
  },
  {
   "cell_type": "markdown",
   "metadata": {},
   "source": [
    "#### **TEST 2: Challenged Student**"
   ]
  },
  {
   "cell_type": "code",
   "execution_count": null,
   "metadata": {},
   "outputs": [],
   "source": [
    "def test_challenge_focused_matching(top_k):\n",
    "    challenged_students = {\n",
    "        k: v for k, v in student_data.items() \n",
    "        if len(v.get('attributes', {}).get('Learning Challenges', [])) > 0 and \n",
    "        v.get('challenge_index', 0) > 0\n",
    "    }\n",
    "    \n",
    "    if not challenged_students:\n",
    "        print(\"No students found with learning challenges.\")\n",
    "        return\n",
    "    \n",
    "    random_student_id = random.choice(list(challenged_students.keys()))\n",
    "    student_full_data = challenged_students[random_student_id]\n",
    "    student_text = format_student_text(student_full_data)\n",
    "    student_vector = encode_text(student_text, tokenizer, model)\n",
    "    \n",
    "    print(\"\\nSelected Student with Learning Challenges:\")\n",
    "    print(f\"Student ID: {random_student_id}\")\n",
    "    print(\"\\nLearning Profile:\")\n",
    "    print(f\"Learning Challenges: {student_full_data['attributes']['Learning Challenges']}\")\n",
    "    print(f\"Learning Style: {student_full_data['attributes']['Learning Style']}\")\n",
    "    print(f\"Challenge Index: {student_full_data.get('challenge_index', 'Not specified')}\")\n",
    "    print(f\"Skill Level: {student_full_data.get('skill_level', 'Not specified')}\")\n",
    "    \n",
    "    print(\"\\nFinding mentors with matching teaching adaptability...\")\n",
    "    return search_similar(client, MENTOR_COLLECTION, student_vector, top_k=top_k)\n",
    "\n",
    "test_challenge_focused_matching(top_k=3)"
   ]
  },
  {
   "cell_type": "markdown",
   "metadata": {},
   "source": [
    "#### **TEST 3: Based on _Career Focus_**"
   ]
  },
  {
   "cell_type": "code",
   "execution_count": null,
   "metadata": {},
   "outputs": [],
   "source": [
    "def test_career_focused_matching(top_k):\n",
    "    student_id = random.choice(list(student_data.keys()))\n",
    "    student_full_data = student_data[student_id]\n",
    "    student_text = format_student_text(student_full_data)\n",
    "    student_vector = encode_text(student_text, tokenizer, model)\n",
    "    \n",
    "    print(\"\\nSelected Student Career Profile:\")\n",
    "    print(f\"Student ID: {student_id}\")\n",
    "    print(f\"Career Focus: {student_full_data.get('career_focus', 'Not specified')}\")\n",
    "    print(f\"Goals: {student_full_data['attributes'].get('Goals', [])}\")\n",
    "    print(f\"Skill Level: {student_full_data.get('skill_level', 'Not specified')}\")\n",
    "    print(f\"Preferred Mentor Expertise: {student_full_data.get('preferred_mentor_expertise', [])}\")\n",
    "    \n",
    "    print(\"\\nFinding mentors with relevant expertise and career alignment...\")\n",
    "    return search_similar(client, MENTOR_COLLECTION, student_vector, top_k=top_k)\n",
    "\n",
    "test_career_focused_matching(top_k=3)"
   ]
  }
 ],
 "metadata": {
  "kernelspec": {
   "display_name": "Python 3",
   "language": "python",
   "name": "python3"
  },
  "language_info": {
   "codemirror_mode": {
    "name": "ipython",
    "version": 3
   },
   "file_extension": ".py",
   "mimetype": "text/x-python",
   "name": "python",
   "nbconvert_exporter": "python",
   "pygments_lexer": "ipython3",
   "version": "3.10.12"
  }
 },
 "nbformat": 4,
 "nbformat_minor": 2
}

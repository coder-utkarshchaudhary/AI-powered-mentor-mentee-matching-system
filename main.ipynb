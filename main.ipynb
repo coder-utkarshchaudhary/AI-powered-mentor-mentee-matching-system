{
 "cells": [
  {
   "cell_type": "markdown",
   "metadata": {
    "_cell_guid": "3c5006a5-93c5-46e4-a9f8-d42788ff05e3",
    "_uuid": "9eb94abe-ccb5-46ad-b962-0b8f644349ef",
    "collapsed": false,
    "jupyter": {
     "outputs_hidden": false
    },
    "trusted": true
   },
   "source": [
    "## **Importing Dependincies**"
   ]
  },
  {
   "cell_type": "code",
   "execution_count": 1,
   "metadata": {
    "_cell_guid": "0027a0af-cc14-4072-859b-2bf8f7458a0e",
    "_uuid": "fd999d7e-f9b7-40ef-a91b-2641fc49061e",
    "collapsed": false,
    "execution": {
     "iopub.execute_input": "2024-12-27T17:57:17.779703Z",
     "iopub.status.busy": "2024-12-27T17:57:17.779451Z",
     "iopub.status.idle": "2024-12-27T17:57:22.967058Z",
     "shell.execute_reply": "2024-12-27T17:57:22.966359Z",
     "shell.execute_reply.started": "2024-12-27T17:57:17.779679Z"
    },
    "jupyter": {
     "outputs_hidden": false
    },
    "trusted": true
   },
   "outputs": [
    {
     "name": "stderr",
     "output_type": "stream",
     "text": [
      "2024-12-28 13:46:40.224365: I tensorflow/core/util/port.cc:153] oneDNN custom operations are on. You may see slightly different numerical results due to floating-point round-off errors from different computation orders. To turn them off, set the environment variable `TF_ENABLE_ONEDNN_OPTS=0`.\n",
      "2024-12-28 13:46:40.233685: E external/local_xla/xla/stream_executor/cuda/cuda_fft.cc:485] Unable to register cuFFT factory: Attempting to register factory for plugin cuFFT when one has already been registered\n",
      "2024-12-28 13:46:40.245142: E external/local_xla/xla/stream_executor/cuda/cuda_dnn.cc:8454] Unable to register cuDNN factory: Attempting to register factory for plugin cuDNN when one has already been registered\n",
      "2024-12-28 13:46:40.248610: E external/local_xla/xla/stream_executor/cuda/cuda_blas.cc:1452] Unable to register cuBLAS factory: Attempting to register factory for plugin cuBLAS when one has already been registered\n",
      "2024-12-28 13:46:40.258237: I tensorflow/core/platform/cpu_feature_guard.cc:210] This TensorFlow binary is optimized to use available CPU instructions in performance-critical operations.\n",
      "To enable the following instructions: AVX2 AVX_VNNI FMA, in other operations, rebuild TensorFlow with the appropriate compiler flags.\n",
      "2024-12-28 13:46:40.804818: W tensorflow/compiler/tf2tensorrt/utils/py_utils.cc:38] TF-TRT Warning: Could not find TensorRT\n"
     ]
    }
   ],
   "source": [
    "import os\n",
    "import json\n",
    "import torch\n",
    "import random\n",
    "from tqdm import tqdm\n",
    "from transformers import BertModel, BertTokenizer\n",
    "from pymilvus import MilvusClient, DataType"
   ]
  },
  {
   "cell_type": "markdown",
   "metadata": {
    "_cell_guid": "bfd22cf2-f0aa-4ece-bfe1-5ace3a46d6dc",
    "_uuid": "4434b8af-7121-42bb-884d-b5f7f0dceca2",
    "collapsed": false,
    "jupyter": {
     "outputs_hidden": false
    },
    "trusted": true
   },
   "source": [
    "## **Configuration and Global Variables**"
   ]
  },
  {
   "cell_type": "code",
   "execution_count": 2,
   "metadata": {
    "_cell_guid": "2198a310-b9c8-4ebd-ba9a-63591b8291dd",
    "_uuid": "c070c295-6f7b-4c2f-a313-907d0111c677",
    "collapsed": false,
    "execution": {
     "iopub.execute_input": "2024-12-27T17:57:22.968787Z",
     "iopub.status.busy": "2024-12-27T17:57:22.968378Z",
     "iopub.status.idle": "2024-12-27T17:57:22.973375Z",
     "shell.execute_reply": "2024-12-27T17:57:22.972669Z",
     "shell.execute_reply.started": "2024-12-27T17:57:22.968764Z"
    },
    "jupyter": {
     "outputs_hidden": false
    },
    "trusted": true
   },
   "outputs": [],
   "source": [
    "# Data paths\n",
    "INPUT_DATA_PATH_STUDENTS = r\"mock dataset generation/datasets/refined_final_dataset_student.json\"\n",
    "INPUT_DATA_PATH_MENTOR = r\"mock dataset generation/datasets/refined_final_dataset_mentor.json\"\n",
    "OUTPUT_DATA_PATH_STUDENTS = r\"mock dataset generation/datasets/enriched_dataset_student.json\"\n",
    "OUTPUT_DATA_PATH_MENTOR = r\"mock dataset generation/datasets/enriched_dataset_mentor.json\"\n",
    "\n",
    "# Vector DB configs\n",
    "STUDENT_COLLECTION = \"student_collection\"\n",
    "MENTOR_COLLECTION = \"mentor_collection\"\n",
    "VECTOR_DIM = 768\n",
    "BERT_MODEL_NAME = \"bert-base-uncased\""
   ]
  },
  {
   "cell_type": "markdown",
   "metadata": {
    "_cell_guid": "9718c4f1-a50a-4e87-9a30-163cac8874bb",
    "_uuid": "e2f85c72-5c1c-4dbb-9bc1-7459a34b94de",
    "collapsed": false,
    "jupyter": {
     "outputs_hidden": false
    },
    "trusted": true
   },
   "source": [
    "## **Loading Data**"
   ]
  },
  {
   "cell_type": "code",
   "execution_count": 3,
   "metadata": {
    "_cell_guid": "8fa5b83e-6605-488c-a3f5-771d65aeca3d",
    "_uuid": "ab852a24-c817-42db-ad2b-62849b0de876",
    "collapsed": false,
    "execution": {
     "iopub.execute_input": "2024-12-27T17:57:22.974890Z",
     "iopub.status.busy": "2024-12-27T17:57:22.974593Z",
     "iopub.status.idle": "2024-12-27T17:57:23.022353Z",
     "shell.execute_reply": "2024-12-27T17:57:23.021742Z",
     "shell.execute_reply.started": "2024-12-27T17:57:22.974844Z"
    },
    "jupyter": {
     "outputs_hidden": false
    },
    "trusted": true
   },
   "outputs": [],
   "source": [
    "with open(INPUT_DATA_PATH_STUDENTS, 'r') as student_file, open(INPUT_DATA_PATH_MENTOR, 'r') as mentor_file:\n",
    "    student_data = json.load(student_file)\n",
    "    mentor_data = json.load(mentor_file)"
   ]
  },
  {
   "cell_type": "markdown",
   "metadata": {
    "_cell_guid": "dc327049-dcc1-44d0-b3ec-acecf3b9f138",
    "_uuid": "73d28b18-04dd-455e-a15c-86cb9bd44204",
    "collapsed": false,
    "jupyter": {
     "outputs_hidden": false
    },
    "trusted": true
   },
   "source": [
    "## **Feature Engineering**"
   ]
  },
  {
   "cell_type": "markdown",
   "metadata": {
    "_cell_guid": "82bd283d-9bc1-4438-b70e-595a3e42784a",
    "_uuid": "c92ec34c-9f86-46de-9925-c5157c6bfbc6",
    "collapsed": false,
    "jupyter": {
     "outputs_hidden": false
    },
    "trusted": true
   },
   "source": [
    "#### **Helper functions**"
   ]
  },
  {
   "cell_type": "code",
   "execution_count": 4,
   "metadata": {
    "_cell_guid": "80f96349-ac81-4362-b037-27b6f6378630",
    "_uuid": "cd955260-6d7c-4237-8d75-7ae938e49dc9",
    "collapsed": false,
    "execution": {
     "iopub.execute_input": "2024-12-27T17:57:23.023265Z",
     "iopub.status.busy": "2024-12-27T17:57:23.023021Z",
     "iopub.status.idle": "2024-12-27T17:57:23.027200Z",
     "shell.execute_reply": "2024-12-27T17:57:23.026370Z",
     "shell.execute_reply.started": "2024-12-27T17:57:23.023244Z"
    },
    "jupyter": {
     "outputs_hidden": false
    },
    "trusted": true
   },
   "outputs": [],
   "source": [
    "def normalize_availability(availability):\n",
    "    if 'weekend' in availability.lower() or 'evening' in availability.lower():\n",
    "        return 'semi-flexible'\n",
    "    elif 'daily' in availability.lower() or 'hours' in availability.lower():\n",
    "        return 'flexible'\n",
    "    else:\n",
    "        return 'rigid'"
   ]
  },
  {
   "cell_type": "markdown",
   "metadata": {
    "_cell_guid": "99cbec51-09c4-4c1f-87a7-f821984a4e63",
    "_uuid": "b8f853b4-384f-4523-8878-14181dfdfd84",
    "collapsed": false,
    "jupyter": {
     "outputs_hidden": false
    },
    "trusted": true
   },
   "source": [
    "#### **Parsing datasets and adding features**"
   ]
  },
  {
   "cell_type": "code",
   "execution_count": 5,
   "metadata": {
    "_cell_guid": "f8fdb01a-9ea4-45a7-a768-202dcb9864bd",
    "_uuid": "68ded066-58be-4f6f-9c4e-414e6c399afc",
    "collapsed": false,
    "execution": {
     "iopub.execute_input": "2024-12-27T17:57:23.028112Z",
     "iopub.status.busy": "2024-12-27T17:57:23.027905Z",
     "iopub.status.idle": "2024-12-27T17:57:23.039693Z",
     "shell.execute_reply": "2024-12-27T17:57:23.038936Z",
     "shell.execute_reply.started": "2024-12-27T17:57:23.028094Z"
    },
    "jupyter": {
     "outputs_hidden": false
    },
    "trusted": true
   },
   "outputs": [],
   "source": [
    "for student_id, attributes in student_data.items():\n",
    "    strengths = attributes.get(\"strengths\", [])\n",
    "    weaknesses = attributes.get(\"weaknesses\", [])\n",
    "    interests = attributes.get(\"interests\", [])\n",
    "    learning_style = attributes.get(\"learning_style\", \"\")\n",
    "    learning_challenges = attributes.get(\"learning_challenges\", [])\n",
    "    goals = attributes.get(\"goals\", [])\n",
    "    availability = attributes.get(\"avail\", \"\")\n",
    "\n",
    "    attributes['skill_level'] = 'advanced' if len(strengths) > len(weaknesses) else 'beginner'\n",
    "    attributes['preferred_mentor_expertise'] = interests\n",
    "    attributes['engagement_preference'] = 'group' if 'collaborative' in learning_style.lower() else 'one-on-one'\n",
    "    attributes['challenge_index'] = len(learning_challenges)\n",
    "    attributes['career_focus'] = 'STEM' if any(g in ['engineering', 'data science', 'math'] for g in goals) else 'Other'\n",
    "    attributes['learning_time_flexibility'] = normalize_availability(availability)"
   ]
  },
  {
   "cell_type": "code",
   "execution_count": 6,
   "metadata": {
    "_cell_guid": "a2df7c80-5c73-416b-8d4e-df9c53546195",
    "_uuid": "b6a6e978-ce7b-46e2-8271-04fb883a7d9e",
    "collapsed": false,
    "execution": {
     "iopub.execute_input": "2024-12-27T17:57:23.040701Z",
     "iopub.status.busy": "2024-12-27T17:57:23.040451Z",
     "iopub.status.idle": "2024-12-27T17:57:23.055253Z",
     "shell.execute_reply": "2024-12-27T17:57:23.054525Z",
     "shell.execute_reply.started": "2024-12-27T17:57:23.040675Z"
    },
    "jupyter": {
     "outputs_hidden": false
    },
    "trusted": true
   },
   "outputs": [],
   "source": [
    "for mentor_id, attributes in mentor_data.items():\n",
    "    expertise = attributes.get(\"Expertise\", [])\n",
    "    weaknesses = attributes.get(\"Weaknesses\", [])\n",
    "    interests = attributes.get(\"Interests\", [])\n",
    "    teaching_style = attributes.get(\"Teaching Style\", \"\")\n",
    "    professional_goals = attributes.get(\"Professional Goals\", [])\n",
    "    availability = attributes.get(\"Availability\", \"\")\n",
    "\n",
    "    attributes['compatibility_index'] = 'high' if 'hands-on' in teaching_style.lower() else 'medium'\n",
    "    attributes['mentorship_focus'] = 'career progression' if any(g in ['career', 'progress'] for g in professional_goals) else 'skill-building'\n",
    "    attributes['subject_breadth'] = len(expertise)\n",
    "    attributes['teaching_adaptability'] = 'high' if len(weaknesses) > 2 else 'low'\n",
    "    attributes['session_availability_density'] = normalize_availability(availability)"
   ]
  },
  {
   "cell_type": "markdown",
   "metadata": {
    "_cell_guid": "22b9b703-bd83-4425-a77e-5c42ff761652",
    "_uuid": "99a4a39c-f2be-40e7-a93d-976533393ed9",
    "collapsed": false,
    "jupyter": {
     "outputs_hidden": false
    },
    "trusted": true
   },
   "source": [
    "#### **Saving updated files**"
   ]
  },
  {
   "cell_type": "code",
   "execution_count": 7,
   "metadata": {
    "_cell_guid": "1e513aa8-33ed-46da-88a9-8a17db2ad58b",
    "_uuid": "9f7885f7-ea25-4fff-96cb-db9ead295d25",
    "collapsed": false,
    "execution": {
     "iopub.execute_input": "2024-12-27T17:57:23.057608Z",
     "iopub.status.busy": "2024-12-27T17:57:23.057362Z",
     "iopub.status.idle": "2024-12-27T17:57:23.115722Z",
     "shell.execute_reply": "2024-12-27T17:57:23.114794Z",
     "shell.execute_reply.started": "2024-12-27T17:57:23.057589Z"
    },
    "jupyter": {
     "outputs_hidden": false
    },
    "trusted": true
   },
   "outputs": [
    {
     "name": "stdout",
     "output_type": "stream",
     "text": [
      "Enriched datasets have been successfully generated.\n"
     ]
    }
   ],
   "source": [
    "with open(OUTPUT_DATA_PATH_STUDENTS, 'w') as student_output, open(OUTPUT_DATA_PATH_MENTOR, 'w') as mentor_output:\n",
    "    json.dump(student_data, student_output, indent=4)\n",
    "    json.dump(mentor_data, mentor_output, indent=4)\n",
    "\n",
    "print(\"Enriched datasets have been successfully generated.\")"
   ]
  },
  {
   "cell_type": "markdown",
   "metadata": {
    "_cell_guid": "4102a400-38c4-49e0-9da5-7f631a937505",
    "_uuid": "79862389-f14c-4f76-8c22-5240fde00827",
    "collapsed": false,
    "jupyter": {
     "outputs_hidden": false
    },
    "trusted": true
   },
   "source": [
    "## **Establishing Vector Database**"
   ]
  },
  {
   "cell_type": "markdown",
   "metadata": {
    "_cell_guid": "8d758ef2-54d4-4c48-a2e2-709edc00981e",
    "_uuid": "f253f1ce-b56d-4c07-83b2-5912805fe8c6",
    "collapsed": false,
    "jupyter": {
     "outputs_hidden": false
    },
    "trusted": true
   },
   "source": [
    "#### **Helper functions**"
   ]
  },
  {
   "cell_type": "code",
   "execution_count": 8,
   "metadata": {
    "_cell_guid": "4c089bf3-cb10-4a02-ad49-dff374f536e3",
    "_uuid": "44168fe9-3685-4320-821d-a94145976b3d",
    "collapsed": false,
    "execution": {
     "iopub.execute_input": "2024-12-27T17:57:23.117254Z",
     "iopub.status.busy": "2024-12-27T17:57:23.117023Z",
     "iopub.status.idle": "2024-12-27T17:57:23.120612Z",
     "shell.execute_reply": "2024-12-27T17:57:23.119766Z",
     "shell.execute_reply.started": "2024-12-27T17:57:23.117233Z"
    },
    "jupyter": {
     "outputs_hidden": false
    },
    "trusted": true
   },
   "outputs": [],
   "source": [
    "def get_milvus_client():\n",
    "    client = MilvusClient(\"vector_database.db\")\n",
    "    print(\"Connected to Milvus.\")\n",
    "    return client"
   ]
  },
  {
   "cell_type": "code",
   "execution_count": 9,
   "metadata": {
    "_cell_guid": "864b12a8-f1c3-4163-9022-e4c7f86ce17c",
    "_uuid": "c9a08b64-677d-43c5-bcc3-465ca924f59f",
    "collapsed": false,
    "execution": {
     "iopub.execute_input": "2024-12-27T17:58:02.073346Z",
     "iopub.status.busy": "2024-12-27T17:58:02.073071Z",
     "iopub.status.idle": "2024-12-27T17:58:02.078388Z",
     "shell.execute_reply": "2024-12-27T17:58:02.077429Z",
     "shell.execute_reply.started": "2024-12-27T17:58:02.073325Z"
    },
    "jupyter": {
     "outputs_hidden": false
    },
    "trusted": true
   },
   "outputs": [],
   "source": [
    "def create_collection(client, collection_name):    \n",
    "    schema = MilvusClient.create_schema(\n",
    "        auto_id=False,\n",
    "        enable_dynamic_field=True,\n",
    "    )\n",
    "\n",
    "    schema.add_field(field_name=\"id\", datatype=DataType.INT64, is_nullable=True, is_primary=True)    \n",
    "    schema.add_field(field_name=\"orig\", datatype=DataType.VARCHAR, max_length=40)\n",
    "    schema.add_field(field_name=\"vector\", datatype=DataType.FLOAT_VECTOR, dim=VECTOR_DIM)\n",
    "\n",
    "    index_params = client.prepare_index_params()\n",
    "    \n",
    "    index_params.add_index(\n",
    "        field_name=\"vector\", \n",
    "        index_type=\"AUTOINDEX\",\n",
    "        metric_type=\"COSINE\"\n",
    "    )\n",
    "    \n",
    "    # Create collection\n",
    "    client.create_collection(\n",
    "        collection_name=collection_name,\n",
    "        schema=schema,\n",
    "        index_params=index_params\n",
    "    )\n",
    "    print(f\"Collection {collection_name} created with id and vector fields.\")"
   ]
  },
  {
   "cell_type": "code",
   "execution_count": 10,
   "metadata": {
    "_cell_guid": "1d6d5d63-a891-45e5-9359-542dc66e2b06",
    "_uuid": "4521ad39-b88f-4488-a0bc-75565a54739b",
    "collapsed": false,
    "execution": {
     "iopub.execute_input": "2024-12-27T17:58:02.844188Z",
     "iopub.status.busy": "2024-12-27T17:58:02.843842Z",
     "iopub.status.idle": "2024-12-27T17:58:02.848353Z",
     "shell.execute_reply": "2024-12-27T17:58:02.847414Z",
     "shell.execute_reply.started": "2024-12-27T17:58:02.844159Z"
    },
    "jupyter": {
     "outputs_hidden": false
    },
    "trusted": true
   },
   "outputs": [],
   "source": [
    "def load_bert_encoder():\n",
    "    tokenizer = BertTokenizer.from_pretrained(BERT_MODEL_NAME)\n",
    "    model = BertModel.from_pretrained(BERT_MODEL_NAME)\n",
    "    return tokenizer, model"
   ]
  },
  {
   "cell_type": "code",
   "execution_count": 11,
   "metadata": {
    "_cell_guid": "9ca3ee05-71eb-4cde-bfda-ee9508363b1f",
    "_uuid": "53775e3f-5f15-4b52-be3d-679a15bf165f",
    "collapsed": false,
    "execution": {
     "iopub.execute_input": "2024-12-27T17:58:02.933993Z",
     "iopub.status.busy": "2024-12-27T17:58:02.933697Z",
     "iopub.status.idle": "2024-12-27T17:58:02.937908Z",
     "shell.execute_reply": "2024-12-27T17:58:02.937168Z",
     "shell.execute_reply.started": "2024-12-27T17:58:02.933968Z"
    },
    "jupyter": {
     "outputs_hidden": false
    },
    "trusted": true
   },
   "outputs": [],
   "source": [
    "def encode_text(text, tokenizer, model):\n",
    "    inputs = tokenizer(text, return_tensors=\"pt\", padding=True, truncation=True, max_length=1024)\n",
    "    with torch.no_grad():\n",
    "        outputs = model(**inputs)\n",
    "    return outputs.last_hidden_state[:, 0, :].squeeze().numpy()"
   ]
  },
  {
   "cell_type": "code",
   "execution_count": 12,
   "metadata": {
    "_cell_guid": "2962ff4c-7e74-4ef4-a6c7-05442778a8f0",
    "_uuid": "363c1b65-3bdc-4aed-a71d-34ac05a74680",
    "collapsed": false,
    "execution": {
     "iopub.execute_input": "2024-12-27T17:58:03.142532Z",
     "iopub.status.busy": "2024-12-27T17:58:03.142235Z",
     "iopub.status.idle": "2024-12-27T17:58:03.147973Z",
     "shell.execute_reply": "2024-12-27T17:58:03.147153Z",
     "shell.execute_reply.started": "2024-12-27T17:58:03.142509Z"
    },
    "jupyter": {
     "outputs_hidden": false
    },
    "trusted": true
   },
   "outputs": [],
   "source": [
    "def format_student_text(student_data):\n",
    "    attributes = student_data.get('attributes', {})\n",
    "    \n",
    "    core_text = f\"Strengths: {attributes.get('Strengths', [])} | \" \\\n",
    "                f\"Weaknesses: {attributes.get('Weaknesses', [])} | \" \\\n",
    "                f\"Interests: {attributes.get('Interests', [])} | \" \\\n",
    "                f\"Learning Style: {attributes.get('Learning Style', '')} | \" \\\n",
    "                f\"Learning Challenges: {attributes.get('Learning Challenges', [])} | \" \\\n",
    "                f\"Goals: {attributes.get('Goals', [])} | \" \\\n",
    "                f\"Availability: {attributes.get('Availability', '')}\"\n",
    "    \n",
    "    additional_text = f\"Skill Level: {student_data.get('skill_level', '')} | \" \\\n",
    "                     f\"Preferred Mentor Expertise: {student_data.get('preferred_mentor_expertise', [])} | \" \\\n",
    "                     f\"Engagement Preference: {student_data.get('engagement_preference', '')} | \" \\\n",
    "                     f\"Challenge Index: {student_data.get('challenge_index', '')} | \" \\\n",
    "                     f\"Career Focus: {student_data.get('career_focus', '')} | \" \\\n",
    "                     f\"Learning Time Flexibility: {student_data.get('learning_time_flexibility', '')}\"\n",
    "    \n",
    "    return f\"{core_text} | {additional_text}\"\n",
    "\n",
    "def format_mentor_text(mentor_data):\n",
    "    core_text = f\"Expertise: {mentor_data.get('Expertise', [])} | \" \\\n",
    "                f\"Weaknesses: {mentor_data.get('Weaknesses', [])} | \" \\\n",
    "                f\"Interests: {mentor_data.get('Interests', [])} | \" \\\n",
    "                f\"Teaching Style: {mentor_data.get('Teaching Style', '')} | \" \\\n",
    "                f\"Professional Goals: {mentor_data.get('Professional Goals', [])} | \" \\\n",
    "                f\"Availability: {mentor_data.get('Availability', '')}\"\n",
    "    \n",
    "    additional_text = f\"Compatibility Index: {mentor_data.get('compatibility_index', '')} | \" \\\n",
    "                     f\"Mentorship Focus: {mentor_data.get('mentorship_focus', '')} | \" \\\n",
    "                     f\"Subject Breadth: {mentor_data.get('subject_breadth', '')} | \" \\\n",
    "                     f\"Teaching Adaptability: {mentor_data.get('teaching_adaptability', '')} | \" \\\n",
    "                     f\"Session Availability Density: {mentor_data.get('session_availability_density', '')}\"\n",
    "    \n",
    "    return f\"{core_text} | {additional_text}\""
   ]
  },
  {
   "cell_type": "code",
   "execution_count": 13,
   "metadata": {
    "_cell_guid": "9d10f10a-ddcd-4c03-9b56-393fd6a0af57",
    "_uuid": "ec9de7a2-1e0c-49b3-bb18-9e5483902113",
    "collapsed": false,
    "execution": {
     "iopub.execute_input": "2024-12-27T17:58:03.260059Z",
     "iopub.status.busy": "2024-12-27T17:58:03.259728Z",
     "iopub.status.idle": "2024-12-27T17:58:03.267820Z",
     "shell.execute_reply": "2024-12-27T17:58:03.266853Z",
     "shell.execute_reply.started": "2024-12-27T17:58:03.260031Z"
    },
    "jupyter": {
     "outputs_hidden": false
    },
    "trusted": true
   },
   "outputs": [],
   "source": [
    "def insert_data(client, collection_name, data, tokenizer, model):\n",
    "    format_func = format_student_text if collection_name == STUDENT_COLLECTION else format_mentor_text\n",
    "    \n",
    "    entities = []\n",
    "    for idx, (id_key, attributes) in enumerate(tqdm(data.items())):\n",
    "        text = format_func(attributes)\n",
    "        vector = encode_text(text, tokenizer, model)\n",
    "        \n",
    "        entities.append({\n",
    "            \"id\":idx,\n",
    "            \"orig\": str(id_key),\n",
    "            \"vector\": vector.tolist(),\n",
    "        })\n",
    "    \n",
    "    batch_size = 50\n",
    "    for i in range(0, len(entities), batch_size):\n",
    "        batch = entities[i:i + batch_size]\n",
    "        client.insert(\n",
    "            collection_name=collection_name,\n",
    "            data=batch\n",
    "        )\n",
    "    \n",
    "    print(f\"Inserted {len(entities)} records into {collection_name}.\")"
   ]
  },
  {
   "cell_type": "code",
   "execution_count": 14,
   "metadata": {
    "_cell_guid": "7b0bb0ef-7820-4bc0-a1a5-98cd4ed4d746",
    "_uuid": "13774a0b-5b9a-4c71-8153-9218f8c4f33f",
    "collapsed": false,
    "execution": {
     "iopub.execute_input": "2024-12-27T18:00:50.359758Z",
     "iopub.status.busy": "2024-12-27T18:00:50.359370Z",
     "iopub.status.idle": "2024-12-27T18:00:50.365356Z",
     "shell.execute_reply": "2024-12-27T18:00:50.364300Z",
     "shell.execute_reply.started": "2024-12-27T18:00:50.359725Z"
    },
    "jupyter": {
     "outputs_hidden": false
    },
    "trusted": true
   },
   "outputs": [],
   "source": [
    "def search_similar(client, collection_name, query_vector, top_k):\n",
    "    results = client.search(\n",
    "        collection_name=collection_name,\n",
    "        data=[query_vector],\n",
    "        output_fields=[\"orig\"],\n",
    "        limit=top_k,\n",
    "        search_params={\"metric_type\":\"COSINE\"}\n",
    "    )\n",
    "    \n",
    "    print(f\"Search results from {collection_name}:\")\n",
    "    for hits in results:\n",
    "        for hit in hits:\n",
    "            print(hit)"
   ]
  },
  {
   "cell_type": "markdown",
   "metadata": {
    "_cell_guid": "a58537fc-ef27-464f-9315-44b78a6ea69e",
    "_uuid": "2e5bfb41-e757-4a2e-93da-bdd742ebdb8b",
    "collapsed": false,
    "jupyter": {
     "outputs_hidden": false
    },
    "trusted": true
   },
   "source": [
    "#### **Inserting data to DB**"
   ]
  },
  {
   "cell_type": "code",
   "execution_count": 15,
   "metadata": {
    "_cell_guid": "ee3bdab1-442b-4e0b-99ae-0c9eb3ff78b2",
    "_uuid": "44322e1a-8c47-4f14-885a-9a7dcd403876",
    "collapsed": false,
    "execution": {
     "iopub.execute_input": "2024-12-27T17:58:06.240088Z",
     "iopub.status.busy": "2024-12-27T17:58:06.239751Z",
     "iopub.status.idle": "2024-12-27T17:59:46.906918Z",
     "shell.execute_reply": "2024-12-27T17:59:46.906007Z",
     "shell.execute_reply.started": "2024-12-27T17:58:06.240059Z"
    },
    "jupyter": {
     "outputs_hidden": false
    },
    "trusted": true
   },
   "outputs": [
    {
     "name": "stdout",
     "output_type": "stream",
     "text": [
      "Connected to Milvus.\n",
      "Collection student_collection created with id and vector fields.\n",
      "Collection mentor_collection created with id and vector fields.\n"
     ]
    },
    {
     "name": "stderr",
     "output_type": "stream",
     "text": [
      "100%|██████████| 300/300 [00:34<00:00,  8.76it/s]\n"
     ]
    },
    {
     "name": "stdout",
     "output_type": "stream",
     "text": [
      "Inserted 300 records into student_collection.\n"
     ]
    },
    {
     "name": "stderr",
     "output_type": "stream",
     "text": [
      "100%|██████████| 300/300 [00:33<00:00,  9.04it/s]\n"
     ]
    },
    {
     "name": "stdout",
     "output_type": "stream",
     "text": [
      "Inserted 300 records into mentor_collection.\n"
     ]
    }
   ],
   "source": [
    "client = get_milvus_client()\n",
    "\n",
    "create_collection(client, STUDENT_COLLECTION)\n",
    "create_collection(client, MENTOR_COLLECTION)\n",
    "\n",
    "with open(OUTPUT_DATA_PATH_STUDENTS, \"r\") as student_file:\n",
    "    student_data = json.load(student_file)\n",
    "with open(OUTPUT_DATA_PATH_MENTOR, \"r\") as mentor_file:\n",
    "    mentor_data = json.load(mentor_file)\n",
    "\n",
    "tokenizer, model = load_bert_encoder()\n",
    "\n",
    "insert_data(client, STUDENT_COLLECTION, student_data, tokenizer, model)\n",
    "insert_data(client, MENTOR_COLLECTION, mentor_data, tokenizer, model)"
   ]
  },
  {
   "cell_type": "markdown",
   "metadata": {
    "_cell_guid": "1a97123d-fde7-4c6a-9f2e-7e370536cf00",
    "_uuid": "0a7079c3-ad78-4531-833e-1dbefc34e589",
    "collapsed": false,
    "jupyter": {
     "outputs_hidden": false
    },
    "trusted": true
   },
   "source": [
    "## **Evaluation and Testing**"
   ]
  },
  {
   "cell_type": "markdown",
   "metadata": {
    "_cell_guid": "466b5f17-dd4b-4041-a676-7b892c3a4567",
    "_uuid": "982019d7-0771-4539-81ee-dd7278330142",
    "collapsed": false,
    "jupyter": {
     "outputs_hidden": false
    },
    "trusted": true
   },
   "source": [
    "#### **Helper functions**"
   ]
  },
  {
   "cell_type": "code",
   "execution_count": 16,
   "metadata": {
    "_cell_guid": "474a307f-8c22-4e77-9575-fd6f6b086db3",
    "_uuid": "401ca75c-2cda-47e8-a01b-fe51d4b8b274",
    "collapsed": false,
    "execution": {
     "iopub.execute_input": "2024-12-27T17:59:46.908585Z",
     "iopub.status.busy": "2024-12-27T17:59:46.908052Z",
     "iopub.status.idle": "2024-12-27T17:59:46.912888Z",
     "shell.execute_reply": "2024-12-27T17:59:46.912090Z",
     "shell.execute_reply.started": "2024-12-27T17:59:46.908560Z"
    },
    "jupyter": {
     "outputs_hidden": false
    },
    "trusted": true
   },
   "outputs": [],
   "source": [
    "def get_random_student_vector(student_data, tokenizer, model):\n",
    "    random_student_id = random.choice(list(student_data.keys()))\n",
    "    student_full_data = student_data[random_student_id]\n",
    "    student_attributes = student_full_data['attributes']\n",
    "    student_text = format_student_text(student_full_data)\n",
    "    student_vector = encode_text(student_text, tokenizer, model)\n",
    "    return random_student_id, student_vector, student_full_data"
   ]
  },
  {
   "cell_type": "markdown",
   "metadata": {
    "_cell_guid": "35ada3e3-7409-4fe0-8fc4-f1e3cbb958c6",
    "_uuid": "e4afeacc-26c5-436b-a4d3-214e0c3c75b8",
    "collapsed": false,
    "jupyter": {
     "outputs_hidden": false
    },
    "trusted": true
   },
   "source": [
    "#### **TEST 1: Random student**"
   ]
  },
  {
   "cell_type": "code",
   "execution_count": 17,
   "metadata": {
    "_cell_guid": "96dae6cf-8569-4924-b3ba-6092469c2a34",
    "_uuid": "70cdb876-090a-4cec-9cde-e559d056cc21",
    "collapsed": false,
    "execution": {
     "iopub.execute_input": "2024-12-27T18:00:53.948675Z",
     "iopub.status.busy": "2024-12-27T18:00:53.948397Z",
     "iopub.status.idle": "2024-12-27T18:00:54.106517Z",
     "shell.execute_reply": "2024-12-27T18:00:54.105515Z",
     "shell.execute_reply.started": "2024-12-27T18:00:53.948654Z"
    },
    "jupyter": {
     "outputs_hidden": false
    },
    "trusted": true
   },
   "outputs": [
    {
     "name": "stdout",
     "output_type": "stream",
     "text": [
      "Selected Student Details:\n",
      "Student ID: student_178\n",
      "\n",
      "Core Attributes:\n",
      "Strengths: ['Good at teamwork', 'Strong in languages', 'Creative']\n",
      "Weaknesses: ['Struggles with math', 'Weak in science']\n",
      "Interests: ['Languages', 'Art', 'Travel']\n",
      "Learning Style: Auditory\n",
      "Learning Challenges: ['Math anxiety']\n",
      "Goals: ['Learn a new language', 'Improve math skills']\n",
      "Availability: 1 hour daily\n",
      "\n",
      "Additional Information:\n",
      "skill_level: beginner\n",
      "engagement_preference: one-on-one\n",
      "challenge_index: 0\n",
      "career_focus: Other\n",
      "learning_time_flexibility: rigid\n",
      "\n",
      "Finding matching mentors...\n",
      "Search results from mentor_collection:\n",
      "{'id': 294, 'distance': 0.9691210985183716, 'entity': {'orig': 'mentor_295'}}\n",
      "{'id': 34, 'distance': 0.9690457582473755, 'entity': {'orig': 'mentor_35'}}\n",
      "{'id': 59, 'distance': 0.9687049388885498, 'entity': {'orig': 'mentor_60'}}\n"
     ]
    }
   ],
   "source": [
    "def test_basic_matching(top_k):\n",
    "    random_student_id, student_vector, student_full_data = get_random_student_vector(student_data, tokenizer, model)\n",
    "    \n",
    "    print(\"Selected Student Details:\")\n",
    "    print(f\"Student ID: {random_student_id}\")\n",
    "    print(\"\\nCore Attributes:\")\n",
    "    for key, value in student_full_data['attributes'].items():\n",
    "        print(f\"{key}: {value}\")\n",
    "    \n",
    "    print(\"\\nAdditional Information:\")\n",
    "    additional_fields = ['skill_level', 'engagement_preference', 'challenge_index', \n",
    "                        'career_focus', 'learning_time_flexibility']\n",
    "    for field in additional_fields:\n",
    "        print(f\"{field}: {student_full_data.get(field, 'Not specified')}\")\n",
    "    \n",
    "    print(\"\\nFinding matching mentors...\")\n",
    "    results = search_similar(client, MENTOR_COLLECTION, student_vector, top_k=top_k)\n",
    "    return results\n",
    "\n",
    "test_basic_matching(top_k=3)"
   ]
  },
  {
   "cell_type": "markdown",
   "metadata": {
    "_cell_guid": "1d6c4bcd-9310-4726-83e8-7c3e631b75e9",
    "_uuid": "cb4043ed-89a1-434f-a8a6-9f5d477f25e0",
    "collapsed": false,
    "jupyter": {
     "outputs_hidden": false
    },
    "trusted": true
   },
   "source": [
    "#### **TEST 2: Challenged Student**"
   ]
  },
  {
   "cell_type": "code",
   "execution_count": 18,
   "metadata": {
    "_cell_guid": "8ab95430-071d-4fda-835b-c24afdc86cf8",
    "_uuid": "2cad9ca6-d474-429f-a3fb-31bc81e3e8f3",
    "collapsed": false,
    "execution": {
     "iopub.execute_input": "2024-12-27T18:01:17.130322Z",
     "iopub.status.busy": "2024-12-27T18:01:17.130003Z",
     "iopub.status.idle": "2024-12-27T18:01:17.137086Z",
     "shell.execute_reply": "2024-12-27T18:01:17.136053Z",
     "shell.execute_reply.started": "2024-12-27T18:01:17.130294Z"
    },
    "jupyter": {
     "outputs_hidden": false
    },
    "trusted": true
   },
   "outputs": [
    {
     "name": "stdout",
     "output_type": "stream",
     "text": [
      "No students found with learning challenges.\n"
     ]
    }
   ],
   "source": [
    "def test_challenge_focused_matching(top_k):\n",
    "    challenged_students = {\n",
    "        k: v for k, v in student_data.items() \n",
    "        if len(v.get('attributes', {}).get('Learning Challenges', [])) > 0 and \n",
    "        v.get('challenge_index', 0) > 0\n",
    "    }\n",
    "    \n",
    "    if not challenged_students:\n",
    "        print(\"No students found with learning challenges.\")\n",
    "        return\n",
    "    \n",
    "    random_student_id = random.choice(list(challenged_students.keys()))\n",
    "    student_full_data = challenged_students[random_student_id]\n",
    "    student_text = format_student_text(student_full_data)\n",
    "    student_vector = encode_text(student_text, tokenizer, model)\n",
    "    \n",
    "    print(\"\\nSelected Student with Learning Challenges:\")\n",
    "    print(f\"Student ID: {random_student_id}\")\n",
    "    print(\"\\nLearning Profile:\")\n",
    "    print(f\"Learning Challenges: {student_full_data['attributes']['Learning Challenges']}\")\n",
    "    print(f\"Learning Style: {student_full_data['attributes']['Learning Style']}\")\n",
    "    print(f\"Challenge Index: {student_full_data.get('challenge_index', 'Not specified')}\")\n",
    "    print(f\"Skill Level: {student_full_data.get('skill_level', 'Not specified')}\")\n",
    "    \n",
    "    print(\"\\nFinding mentors with matching teaching adaptability...\")\n",
    "    return search_similar(client, MENTOR_COLLECTION, student_vector, top_k=top_k)\n",
    "\n",
    "test_challenge_focused_matching(top_k=3)"
   ]
  },
  {
   "cell_type": "markdown",
   "metadata": {
    "_cell_guid": "2ba759da-2509-4c60-80dd-669f1b449adc",
    "_uuid": "706d6db9-f9b7-47b9-bde9-3dbc2b8b2572",
    "collapsed": false,
    "jupyter": {
     "outputs_hidden": false
    },
    "trusted": true
   },
   "source": [
    "#### **TEST 3: Based on _Career Focus_**"
   ]
  },
  {
   "cell_type": "code",
   "execution_count": 19,
   "metadata": {
    "_cell_guid": "ecfb737d-eaee-4a81-b2ff-6f501a482f45",
    "_uuid": "76de0b60-bdb5-4e18-b1a9-11c21ba9564e",
    "collapsed": false,
    "execution": {
     "iopub.execute_input": "2024-12-27T18:01:20.336112Z",
     "iopub.status.busy": "2024-12-27T18:01:20.335777Z",
     "iopub.status.idle": "2024-12-27T18:01:20.492652Z",
     "shell.execute_reply": "2024-12-27T18:01:20.491845Z",
     "shell.execute_reply.started": "2024-12-27T18:01:20.336086Z"
    },
    "jupyter": {
     "outputs_hidden": false
    },
    "trusted": true
   },
   "outputs": [
    {
     "name": "stdout",
     "output_type": "stream",
     "text": [
      "\n",
      "Selected Student Career Profile:\n",
      "Student ID: student_85\n",
      "Career Focus: Other\n",
      "Goals: ['Win a debating competition', 'Improve math skills']\n",
      "Skill Level: beginner\n",
      "Preferred Mentor Expertise: []\n",
      "\n",
      "Finding mentors with relevant expertise and career alignment...\n",
      "Search results from mentor_collection:\n",
      "{'id': 59, 'distance': 0.9665457010269165, 'entity': {'orig': 'mentor_60'}}\n",
      "{'id': 64, 'distance': 0.9654986262321472, 'entity': {'orig': 'mentor_65'}}\n",
      "{'id': 219, 'distance': 0.9652574062347412, 'entity': {'orig': 'mentor_220'}}\n"
     ]
    }
   ],
   "source": [
    "def test_career_focused_matching(top_k):\n",
    "    student_id = random.choice(list(student_data.keys()))\n",
    "    student_full_data = student_data[student_id]\n",
    "    student_text = format_student_text(student_full_data)\n",
    "    student_vector = encode_text(student_text, tokenizer, model)\n",
    "    \n",
    "    print(\"\\nSelected Student Career Profile:\")\n",
    "    print(f\"Student ID: {student_id}\")\n",
    "    print(f\"Career Focus: {student_full_data.get('career_focus', 'Not specified')}\")\n",
    "    print(f\"Goals: {student_full_data['attributes'].get('Goals', [])}\")\n",
    "    print(f\"Skill Level: {student_full_data.get('skill_level', 'Not specified')}\")\n",
    "    print(f\"Preferred Mentor Expertise: {student_full_data.get('preferred_mentor_expertise', [])}\")\n",
    "    \n",
    "    print(\"\\nFinding mentors with relevant expertise and career alignment...\")\n",
    "    return search_similar(client, MENTOR_COLLECTION, student_vector, top_k=top_k)\n",
    "\n",
    "test_career_focused_matching(top_k=3)"
   ]
  },
  {
   "cell_type": "code",
   "execution_count": null,
   "metadata": {
    "trusted": true
   },
   "outputs": [],
   "source": []
  }
 ],
 "metadata": {
  "kaggle": {
   "accelerator": "gpu",
   "dataSources": [
    {
     "datasetId": 6384708,
     "sourceId": 10313403,
     "sourceType": "datasetVersion"
    }
   ],
   "dockerImageVersionId": 30823,
   "isGpuEnabled": true,
   "isInternetEnabled": true,
   "language": "python",
   "sourceType": "notebook"
  },
  "kernelspec": {
   "display_name": "Python 3",
   "language": "python",
   "name": "python3"
  },
  "language_info": {
   "codemirror_mode": {
    "name": "ipython",
    "version": 3
   },
   "file_extension": ".py",
   "mimetype": "text/x-python",
   "name": "python",
   "nbconvert_exporter": "python",
   "pygments_lexer": "ipython3",
   "version": "3.10.12"
  }
 },
 "nbformat": 4,
 "nbformat_minor": 4
}
